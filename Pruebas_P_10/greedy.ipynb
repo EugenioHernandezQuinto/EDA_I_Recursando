{
 "cells": [
  {
   "cell_type": "code",
   "execution_count": 1,
   "metadata": {},
   "outputs": [],
   "source": [
    "def cambio(cantidad, denominaciones):\n",
    "    resultado = [] #es una lista\n",
    "    while (cantidad > 0):\n",
    "        if(cantidad >= denominaciones[0]):\n",
    "            num = cantidad // denominaciones[0]\n",
    "            cantidad = cantidad - (num * denominaciones[0])\n",
    "            resultado.append([denominaciones[0], num]) #append es una operación para listas, la lista a la que se le va a agregar es a resultado, lo que le voy a agregar también es una lista\n",
    "        denominaciones = denominaciones[1:] #se va consumiendo la lista de denominaciones\n",
    "    return resultado"
   ]
  },
  {
   "cell_type": "code",
   "execution_count": 2,
   "metadata": {},
   "outputs": [
    {
     "name": "stdout",
     "output_type": "stream",
     "text": [
      "[[500, 2]]\n",
      "[[500, 1]]\n",
      "[[50, 6]]\n",
      "[[5, 40]]\n",
      "[[50, 1], [20, 2], [5, 1], [1, 3]]\n"
     ]
    }
   ],
   "source": [
    "#Pruebas del ¿algoritmo?\n",
    "print(cambio(1000, [500, 200, 100, 50, 20, 5, 1]))#supongo que son como modenas o billetes\n",
    "\n",
    "print(cambio(500, [500, 200, 100, 50, 20, 5, 1]))\n",
    "\n",
    "print(cambio(300, [50, 20, 5, 1]))\n",
    "\n",
    "print(cambio(200, [5]))\n",
    "\n",
    "print(cambio(98, [50, 20, 5, 1])) #creo que si esta bien así, envias un entero y una lista para la función cambio"
   ]
  },
  {
   "cell_type": "code",
   "execution_count": null,
   "metadata": {},
   "outputs": [],
   "source": [
    "print(cambio(90, [0, 20, 2, 50]))"
   ]
  }
 ],
 "metadata": {
  "kernelspec": {
   "display_name": "Python 3",
   "language": "python",
   "name": "python3"
  },
  "language_info": {
   "codemirror_mode": {
    "name": "ipython",
    "version": 3
   },
   "file_extension": ".py",
   "mimetype": "text/x-python",
   "name": "python",
   "nbconvert_exporter": "python",
   "pygments_lexer": "ipython3",
   "version": "3.11.1"
  },
  "orig_nbformat": 4
 },
 "nbformat": 4,
 "nbformat_minor": 2
}
