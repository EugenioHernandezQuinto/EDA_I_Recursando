{
 "cells": [
  {
   "cell_type": "code",
   "execution_count": 4,
   "metadata": {},
   "outputs": [],
   "source": [
    "from string import  ascii_letters, digits\n",
    "from itertools import product\n",
    "\n",
    "#Concatenar letras y dígitos en una sola cadena\n",
    "caracteres= ascii_letters+digits\n",
    "\n",
    "def buscador(con):\n",
    "    #Archivo con todas las combinaciones generadas\n",
    "    archivo=open(\"combinaciones.txt\", \"w\")\n",
    "\n",
    "    if 3<=len(con) <=4:\n",
    "        for i in range(3,5):\n",
    "            for comb in product(caracteres, repeat=i):\n",
    "                #se utiliza join() para concatenar los caracteres regresados por la función product()\n",
    "                #como join necesita una cadena inicial para hacer la concatenación, se pone una cadena vacía\n",
    "                #al principio\n",
    "                prueba = \"\".join(comb)\n",
    "                #Escribiendo en el archivo cada combinación\n",
    "                archivo.write(prueba + \"\\n\")\n",
    "                if prueba == con:\n",
    "                    print(\"Tu contraseña es {}\".format(prueba))\n",
    "                    #cerrando el archivo\n",
    "                    archivo.close()\n",
    "                    break\n",
    "    else:\n",
    "        print('Ingresa una contraseña que contenga de 3 a 4 caracteres')"
   ]
  },
  {
   "cell_type": "code",
   "execution_count": 5,
   "metadata": {},
   "outputs": [
    {
     "name": "stdout",
     "output_type": "stream",
     "text": [
      "Tu contraseña es HOL4\n",
      "Tiempos de ejecución 1.655114\n"
     ]
    }
   ],
   "source": [
    "from time import time\n",
    "t0=time()\n",
    "con=\"HOL4\"\n",
    "buscador(con)\n",
    "print(\"Tiempos de ejecución {}\".format(round(time()-t0, 6)))"
   ]
  }
 ],
 "metadata": {
  "kernelspec": {
   "display_name": "Python 3",
   "language": "python",
   "name": "python3"
  },
  "language_info": {
   "codemirror_mode": {
    "name": "ipython",
    "version": 3
   },
   "file_extension": ".py",
   "mimetype": "text/x-python",
   "name": "python",
   "nbconvert_exporter": "python",
   "pygments_lexer": "ipython3",
   "version": "3.11.1"
  },
  "orig_nbformat": 4
 },
 "nbformat": 4,
 "nbformat_minor": 2
}
