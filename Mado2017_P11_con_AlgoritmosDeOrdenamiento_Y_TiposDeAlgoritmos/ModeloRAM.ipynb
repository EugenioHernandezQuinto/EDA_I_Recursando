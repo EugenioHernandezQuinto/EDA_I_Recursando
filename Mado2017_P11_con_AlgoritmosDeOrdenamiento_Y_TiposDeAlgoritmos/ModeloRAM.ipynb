{
 "cells": [
  {
   "cell_type": "code",
   "execution_count": 2,
   "metadata": {},
   "outputs": [
    {
     "ename": "ModuleNotFoundError",
     "evalue": "No module named 'matplotlib'",
     "output_type": "error",
     "traceback": [
      "\u001b[0;31m---------------------------------------------------------------------------\u001b[0m",
      "\u001b[0;31mModuleNotFoundError\u001b[0m                       Traceback (most recent call last)",
      "Cell \u001b[0;32mIn[2], line 2\u001b[0m\n\u001b[1;32m      1\u001b[0m \u001b[39m#%pylab inline\u001b[39;00m\n\u001b[0;32m----> 2\u001b[0m \u001b[39mimport\u001b[39;00m \u001b[39mmatplotlib\u001b[39;00m\u001b[39m.\u001b[39;00m\u001b[39mpyplot\u001b[39;00m \u001b[39mas\u001b[39;00m \u001b[39mplt\u001b[39;00m\n\u001b[1;32m      3\u001b[0m \u001b[39mfrom\u001b[39;00m \u001b[39mmpl_toolkits\u001b[39;00m\u001b[39m.\u001b[39;00m\u001b[39mmplot3d\u001b[39;00m \u001b[39mimport\u001b[39;00m Axes3D\n\u001b[1;32m      4\u001b[0m \u001b[39mimport\u001b[39;00m \u001b[39mrandom\u001b[39;00m\n",
      "\u001b[0;31mModuleNotFoundError\u001b[0m: No module named 'matplotlib'"
     ]
    }
   ],
   "source": [
    "#%pylab inline\n",
    "import matplotlib.pyplot as plt\n",
    "from mpl_toolkits.mplot3d import Axes3D\n",
    "import random\n",
    "\n",
    "times=0\n",
    "\n",
    "def insertionSort_graph(n_lista):\n",
    "    global times\n",
    "    for index in range(1, len(n_lista)):\n",
    "        times+=1\n",
    "        actual=n_lista[index]\n",
    "        posicion=index\n",
    "        while(posicion>0 and n_lista[posicion-1]>actual):\n",
    "            times+=1\n",
    "            n_lista[posicion]=n_lista[posicion-1]\n",
    "            posicion=posicion-1\n",
    "        n_lista[posicion]=actual\n",
    "    return n_lista\n",
    "\n",
    "TAM=101\n",
    "eje_x=list(range(1,TAM,1))\n",
    "eje_y=[]\n",
    "lista_variable=[]\n",
    "\n",
    "for num in eje_x:\n",
    "    lista_variable=random.sample(range(0,1000), num)\n",
    "    print(lista_variable)\n",
    "    times=0\n",
    "    lista_variable=insertionSort_graph(lista_variable)\n",
    "    eje_y.append(times)\n",
    "    \n",
    "print(lista_variable)\n",
    "\n",
    "fig, ax=plt.subplots(facecolor='w', edgecolor='k')\n",
    "ax.plot(eje_x, eje_y, marker=\"o\", color=\"b\", linestyle='None')\n",
    "\n",
    "ax.set_xlabel(\"x\")\n",
    "ax.set_ylabel(\"y\")\n",
    "ax.grid(True)\n",
    "ax.legend([\"Insertion Sort\"])\n",
    "\n",
    "plt.title(\"Insertion sort\")\n",
    "plt.show()"
   ]
  }
 ],
 "metadata": {
  "kernelspec": {
   "display_name": "Python 3",
   "language": "python",
   "name": "python3"
  },
  "language_info": {
   "codemirror_mode": {
    "name": "ipython",
    "version": 3
   },
   "file_extension": ".py",
   "mimetype": "text/x-python",
   "name": "python",
   "nbconvert_exporter": "python",
   "pygments_lexer": "ipython3",
   "version": "3.11.1"
  },
  "orig_nbformat": 4
 },
 "nbformat": 4,
 "nbformat_minor": 2
}
