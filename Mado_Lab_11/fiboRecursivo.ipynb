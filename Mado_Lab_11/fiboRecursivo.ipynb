{
 "cells": [
  {
   "cell_type": "code",
   "execution_count": 4,
   "metadata": {},
   "outputs": [],
   "source": [
    "def fibonacci_recursivo(numero):\n",
    "    if numero == 1: #caso base, cuando la función termina la recursividad\n",
    "        return 0\n",
    "    if numero == 2 or numero == 3: #elemento 1 o elemento 3 de la serie de Fibonacci\n",
    "        return 1\n",
    "    return fibonacci_recursivo(numero - 1) + fibonacci_recursivo(numero - 2) #Llamada recursiva"
   ]
  },
  {
   "cell_type": "code",
   "execution_count": 5,
   "metadata": {},
   "outputs": [
    {
     "name": "stdout",
     "output_type": "stream",
     "text": [
      "144\n"
     ]
    }
   ],
   "source": [
    "print(fibonacci_recursivo(13)) #lo único que hace la función es imprimir el elemento 13 de la serie de fibonacci"
   ]
  }
 ],
 "metadata": {
  "kernelspec": {
   "display_name": "Python 3",
   "language": "python",
   "name": "python3"
  },
  "language_info": {
   "codemirror_mode": {
    "name": "ipython",
    "version": 3
   },
   "file_extension": ".py",
   "mimetype": "text/x-python",
   "name": "python",
   "nbconvert_exporter": "python",
   "pygments_lexer": "ipython3",
   "version": "3.11.1"
  },
  "orig_nbformat": 4
 },
 "nbformat": 4,
 "nbformat_minor": 2
}
