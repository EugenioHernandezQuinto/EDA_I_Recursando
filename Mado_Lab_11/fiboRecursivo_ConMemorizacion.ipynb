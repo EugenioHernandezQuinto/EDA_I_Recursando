{
 "cells": [
  {
   "cell_type": "code",
   "execution_count": 1,
   "metadata": {},
   "outputs": [],
   "source": [
    "# Memoria inicial\n",
    "memoria={1:0, 2:1, 3:1} #es un diccionario #son los valores default de la"
   ]
  },
  {
   "cell_type": "code",
   "execution_count": 2,
   "metadata": {},
   "outputs": [],
   "source": [
    "def fibonacci_memo(numero):\n",
    "    if numero in memoria: #si el número ya se encuentra calculado se regresa al valor ya no se hacen más calculos\n",
    "        return memoria[numero] #memoria es una tupla\n",
    "    memoria[numero]=fibonacci_memo(numero-1) + fibonacci_memo(numero-2) #supongo que las tuplas también tienene index\n",
    "    return memoria[numero]"
   ]
  },
  {
   "cell_type": "code",
   "execution_count": 3,
   "metadata": {},
   "outputs": [
    {
     "name": "stdout",
     "output_type": "stream",
     "text": [
      "144\n"
     ]
    }
   ],
   "source": [
    "print(fibonacci_memo(13))"
   ]
  }
 ],
 "metadata": {
  "kernelspec": {
   "display_name": "Python 3",
   "language": "python",
   "name": "python3"
  },
  "language_info": {
   "codemirror_mode": {
    "name": "ipython",
    "version": 3
   },
   "file_extension": ".py",
   "mimetype": "text/x-python",
   "name": "python",
   "nbconvert_exporter": "python",
   "pygments_lexer": "ipython3",
   "version": "3.11.1"
  },
  "orig_nbformat": 4
 },
 "nbformat": 4,
 "nbformat_minor": 2
}
